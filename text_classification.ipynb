{
 "metadata": {
  "language_info": {
   "codemirror_mode": {
    "name": "ipython",
    "version": 3
   },
   "file_extension": ".py",
   "mimetype": "text/x-python",
   "name": "python",
   "nbconvert_exporter": "python",
   "pygments_lexer": "ipython3",
   "version": "3.8.7-final"
  },
  "orig_nbformat": 2,
  "kernelspec": {
   "name": "python3",
   "display_name": "Python 3",
   "language": "python"
  }
 },
 "nbformat": 4,
 "nbformat_minor": 2,
 "cells": [
  {
   "cell_type": "code",
   "execution_count": 2,
   "metadata": {},
   "outputs": [],
   "source": [
    "from sklearn.datasets import fetch_20newsgroups"
   ]
  },
  {
   "source": [
    "# Data Selection (no prep)"
   ],
   "cell_type": "markdown",
   "metadata": {}
  },
  {
   "cell_type": "code",
   "execution_count": 9,
   "metadata": {},
   "outputs": [],
   "source": [
    "categories = ['alt.atheism', 'soc.religion.christian','comp.graphics', 'sci.med']"
   ]
  },
  {
   "cell_type": "code",
   "execution_count": 18,
   "metadata": {},
   "outputs": [],
   "source": [
    "train_b = fetch_20newsgroups(subset='train', categories=categories, shuffle=True, random_state=42)\n",
    "test_b = fetch_20newsgroups(subset='test', categories=categories, shuffle=True, random_state=42)"
   ]
  },
  {
   "cell_type": "code",
   "execution_count": 22,
   "metadata": {},
   "outputs": [
    {
     "output_type": "stream",
     "name": "stdout",
     "text": [
      "size of training set: 2257\nsize of testing set: 1502\nclasses: ['alt.atheism', 'comp.graphics', 'sci.med', 'soc.religion.christian']\n"
     ]
    }
   ],
   "source": [
    "print(f'size of training set: {len(train_b[\"data\"])}')\n",
    "print(f'size of testing set: {len(test_b[\"data\"])}')\n",
    "print(f'classes: {train_b.target_names}')"
   ]
  },
  {
   "cell_type": "code",
   "execution_count": 16,
   "metadata": {},
   "outputs": [
    {
     "output_type": "execute_result",
     "data": {
      "text/plain": [
       "'From: sd345@city.ac.uk (Michael Collier)\\nSubject: Converting images to HP LaserJet III?\\nNntp-Posting-Host: hampton\\nOrganization: The City University\\nLines: 14\\n\\nDoes anyone know of a good way (standard PC application/PD utility) to\\nconvert tif/img/tga files into LaserJet III format.  We would also like to\\ndo the same, converting to HPGL (HP plotter) files.\\n\\nPlease email any response.\\n\\nIs this the correct group?\\n\\nThanks in advance.  Michael.\\n-- \\nMichael Collier (Programmer)                 The Computer Unit,\\nEmail: M.P.Collier@uk.ac.city                The City University,\\nTel: 071 477-8000 x3769                      London,\\nFax: 071 477-8565                            EC1V 0HB.\\n'"
      ]
     },
     "metadata": {},
     "execution_count": 16
    }
   ],
   "source": [
    "train_b['data'][0]"
   ]
  },
  {
   "cell_type": "code",
   "execution_count": 17,
   "metadata": {},
   "outputs": [
    {
     "output_type": "execute_result",
     "data": {
      "text/plain": [
       "1"
      ]
     },
     "metadata": {},
     "execution_count": 17
    }
   ],
   "source": [
    "train_b['target'][0]"
   ]
  },
  {
   "cell_type": "code",
   "execution_count": 23,
   "metadata": {},
   "outputs": [],
   "source": [
    "x_train = train_b.data\n",
    "y_train = train_b.target\n",
    "x_test = test_b.data\n",
    "y_test = test_b.target"
   ]
  },
  {
   "source": [
    "# Model"
   ],
   "cell_type": "markdown",
   "metadata": {}
  },
  {
   "cell_type": "code",
   "execution_count": 26,
   "metadata": {},
   "outputs": [],
   "source": [
    "MODEL_NAME = 'distilbert-base-uncased'"
   ]
  },
  {
   "source": [
    "### STEP 1: Create a transformer instance"
   ],
   "cell_type": "markdown",
   "metadata": {}
  },
  {
   "cell_type": "code",
   "execution_count": 24,
   "metadata": {},
   "outputs": [],
   "source": [
    "import ktrain\n",
    "from ktrain import text"
   ]
  },
  {
   "cell_type": "code",
   "execution_count": null,
   "metadata": {},
   "outputs": [],
   "source": [
    "from ktrain import "
   ]
  },
  {
   "cell_type": "code",
   "execution_count": 27,
   "metadata": {},
   "outputs": [
    {
     "output_type": "stream",
     "name": "stderr",
     "text": [
      "Downloading: 100%|██████████| 442/442 [00:00<00:00, 441kB/s]\n"
     ]
    }
   ],
   "source": [
    "t = text.Transformer(MODEL_NAME, maxlen=500, classes=train_b.target_names)"
   ]
  },
  {
   "source": [
    "### STEP 2: Preprocess the Datasets"
   ],
   "cell_type": "markdown",
   "metadata": {}
  },
  {
   "cell_type": "code",
   "execution_count": 28,
   "metadata": {},
   "outputs": [
    {
     "output_type": "stream",
     "name": "stdout",
     "text": [
      "preprocessing train...\n",
      "language: en\n",
      "train sequence lengths:\n",
      "\tmean : 308\n",
      "\t95percentile : 837\n",
      "\t99percentile : 1938\n",
      "Downloading: 100%|██████████| 232k/232k [00:00<00:00, 629kB/s] \n",
      "Downloading: 100%|██████████| 466k/466k [00:00<00:00, 1.15MB/s]\n"
     ]
    },
    {
     "output_type": "display_data",
     "data": {
      "text/plain": "<IPython.core.display.HTML object>",
      "text/html": "\n    <div>\n        <style>\n            /* Turns off some styling */\n            progress {\n                /* gets rid of default border in Firefox and Opera. */\n                border: none;\n                /* Needs to be in here for Safari polyfill so background images work as expected. */\n                background-size: auto;\n            }\n            .progress-bar-interrupted, .progress-bar-interrupted::-webkit-progress-bar {\n                background: #F44336;\n            }\n        </style>\n      <progress value='0' class='' max='1' style='width:300px; height:20px; vertical-align: middle;'></progress>\n      \n    </div>\n    \n"
     },
     "metadata": {}
    },
    {
     "output_type": "stream",
     "name": "stdout",
     "text": [
      "Is Multi-Label? False\npreprocessing test...\nlanguage: en\ntest sequence lengths:\n\tmean : 343\n\t95percentile : 979\n\t99percentile : 2562\n"
     ]
    },
    {
     "output_type": "display_data",
     "data": {
      "text/plain": "<IPython.core.display.HTML object>",
      "text/html": "\n    <div>\n        <style>\n            /* Turns off some styling */\n            progress {\n                /* gets rid of default border in Firefox and Opera. */\n                border: none;\n                /* Needs to be in here for Safari polyfill so background images work as expected. */\n                background-size: auto;\n            }\n            .progress-bar-interrupted, .progress-bar-interrupted::-webkit-progress-bar {\n                background: #F44336;\n            }\n        </style>\n      <progress value='0' class='' max='1' style='width:300px; height:20px; vertical-align: middle;'></progress>\n      \n    </div>\n    \n"
     },
     "metadata": {}
    }
   ],
   "source": [
    "trn = t.preprocess_train(x_train, y_train)\n",
    "val = t.preprocess_test(x_test, y_test)"
   ]
  },
  {
   "source": [
    "### STEP 3: Create a Model and Weap in Learner"
   ],
   "cell_type": "markdown",
   "metadata": {}
  },
  {
   "cell_type": "code",
   "execution_count": 29,
   "metadata": {},
   "outputs": [
    {
     "output_type": "stream",
     "name": "stderr",
     "text": [
      "Downloading: 100%|██████████| 363M/363M [00:18<00:00, 20.0MB/s]\n"
     ]
    }
   ],
   "source": [
    "model = t.get_classifier()\n",
    "learner = ktrain.get_learner(model, train_data=trn, val_data=val, batch_size=6)"
   ]
  },
  {
   "source": [
    "### STEP 4 (optional): Estimate the Learning Rate"
   ],
   "cell_type": "markdown",
   "metadata": {}
  },
  {
   "cell_type": "code",
   "execution_count": 30,
   "metadata": {},
   "outputs": [
    {
     "output_type": "stream",
     "name": "stdout",
     "text": [
      "simulating training for different learning rates... this may take a few moments...\n",
      "Epoch 1/2\n",
      " 15/376 [>.............................] - ETA: 42:08 - loss: 1.3949 - accuracy: 0.1341"
     ]
    }
   ],
   "source": [
    "learner.lr_find(show_plot=True, max_epochs=2)"
   ]
  },
  {
   "source": [
    "### STEP 5: Train the Model"
   ],
   "cell_type": "markdown",
   "metadata": {}
  },
  {
   "cell_type": "code",
   "execution_count": 31,
   "metadata": {},
   "outputs": [
    {
     "output_type": "stream",
     "name": "stdout",
     "text": [
      "\n",
      "\n",
      "begin training using onecycle policy with max lr of 5e-05...\n",
      "Epoch 1/4\n",
      "377/377 [==============================] - 3116s 8s/step - loss: 0.9511 - accuracy: 0.6600 - val_loss: 0.2322 - val_accuracy: 0.9221\n",
      "Epoch 2/4\n",
      "377/377 [==============================] - 3108s 8s/step - loss: 0.1438 - accuracy: 0.9554 - val_loss: 0.1827 - val_accuracy: 0.9481\n",
      "Epoch 3/4\n",
      "377/377 [==============================] - 3398s 9s/step - loss: 0.0721 - accuracy: 0.9816 - val_loss: 0.2056 - val_accuracy: 0.9401\n",
      "Epoch 4/4\n",
      "377/377 [==============================] - 3034s 8s/step - loss: 0.0195 - accuracy: 0.9947 - val_loss: 0.1858 - val_accuracy: 0.9501\n"
     ]
    },
    {
     "output_type": "execute_result",
     "data": {
      "text/plain": [
       "<tensorflow.python.keras.callbacks.History at 0x1ea98fcb910>"
      ]
     },
     "metadata": {},
     "execution_count": 31
    }
   ],
   "source": [
    "learner.fit_onecycle(lr=5e-5, epochs=4)"
   ]
  },
  {
   "source": [
    "### STEP 6: Inspect the model"
   ],
   "cell_type": "markdown",
   "metadata": {}
  },
  {
   "cell_type": "code",
   "execution_count": 32,
   "metadata": {},
   "outputs": [
    {
     "output_type": "stream",
     "name": "stdout",
     "text": [
      "----------\nid:1330 | loss:7.13 | true:comp.graphics | pred:sci.med)\n\n"
     ]
    }
   ],
   "source": [
    "learner.view_top_losses(n=1, preproc=t)"
   ]
  },
  {
   "cell_type": "code",
   "execution_count": 43,
   "metadata": {},
   "outputs": [
    {
     "output_type": "stream",
     "name": "stdout",
     "text": [
      "From: madler@cco.caltech.edu (Mark Adler)\nSubject: gamma correction\nOrganization: California Institute of Technology, Pasadena\nLines: 5\nNNTP-Posting-Host: sandman.caltech.edu\n\n\nCan someone who knows what they're talking about add a FAQ entry\non gamma correction?  Thanks.\n\nmark\n\n"
     ]
    }
   ],
   "source": [
    "print(x_test[1330])"
   ]
  },
  {
   "source": [
    "### STEP 7: Make Predictions on New Data"
   ],
   "cell_type": "markdown",
   "metadata": {}
  },
  {
   "cell_type": "code",
   "execution_count": 34,
   "metadata": {},
   "outputs": [],
   "source": [
    "predictor = ktrain.get_predictor(learner.model, preproc=t)"
   ]
  },
  {
   "cell_type": "code",
   "execution_count": 35,
   "metadata": {},
   "outputs": [
    {
     "output_type": "execute_result",
     "data": {
      "text/plain": [
       "'soc.religion.christian'"
      ]
     },
     "metadata": {},
     "execution_count": 35
    }
   ],
   "source": [
    "predictor.predict(\"Jesus Christ is the central figure of Christianity\")"
   ]
  },
  {
   "source": [
    "### Explanation"
   ],
   "cell_type": "markdown",
   "metadata": {}
  },
  {
   "cell_type": "code",
   "execution_count": 44,
   "metadata": {},
   "outputs": [
    {
     "output_type": "stream",
     "name": "stdout",
     "text": [
      "Collecting git+https://github.com/amaiya/eli5@tfkeras_0_10_1\n  Cloning https://github.com/amaiya/eli5 (to revision tfkeras_0_10_1) to c:\\users\\gustavo\\appdata\\local\\temp\\pip-req-build-w7_e6q71\nRequirement already satisfied: attrs>16.0.0 in d:\\dev\\envs\\transformers\\lib\\site-packages (from eli5==0.10.1) (20.3.0)\nRequirement already satisfied: jinja2 in d:\\dev\\envs\\transformers\\lib\\site-packages (from eli5==0.10.1) (2.11.2)\nRequirement already satisfied: numpy>=1.9.0 in d:\\dev\\envs\\transformers\\lib\\site-packages (from eli5==0.10.1) (1.19.5)\nRequirement already satisfied: scipy in d:\\dev\\envs\\transformers\\lib\\site-packages (from eli5==0.10.1) (1.6.0)\nRequirement already satisfied: six in d:\\dev\\envs\\transformers\\lib\\site-packages (from eli5==0.10.1) (1.15.0)\nRequirement already satisfied: scikit-learn>=0.18 in d:\\dev\\envs\\transformers\\lib\\site-packages (from eli5==0.10.1) (0.23.2)\nRequirement already satisfied: threadpoolctl>=2.0.0 in d:\\dev\\envs\\transformers\\lib\\site-packages (from scikit-learn>=0.18->eli5==0.10.1) (2.1.0)\nRequirement already satisfied: joblib>=0.11 in d:\\dev\\envs\\transformers\\lib\\site-packages (from scikit-learn>=0.18->eli5==0.10.1) (1.0.0)\nCollecting tabulate>=0.7.7\n  Downloading tabulate-0.8.7-py3-none-any.whl (24 kB)\nCollecting graphviz\n  Downloading graphviz-0.16-py2.py3-none-any.whl (19 kB)\nRequirement already satisfied: MarkupSafe>=0.23 in d:\\dev\\envs\\transformers\\lib\\site-packages (from jinja2->eli5==0.10.1) (1.1.1)\nBuilding wheels for collected packages: eli5\n  Building wheel for eli5 (setup.py): started\n  Building wheel for eli5 (setup.py): finished with status 'done'\n  Created wheel for eli5: filename=eli5-0.10.1-py2.py3-none-any.whl size=107645 sha256=9e9e50ca2d01e336a65a4f035b200a1b94ec65b167f5baf0dd59a7e61797bad7\n  Stored in directory: C:\\Users\\Gustavo\\AppData\\Local\\Temp\\pip-ephem-wheel-cache-6i3sojn4\\wheels\\92\\5c\\70\\2de39262143de9d4f8990bd79d5ce380697535833ceb70b595\nSuccessfully built eli5\nInstalling collected packages: tabulate, graphviz, eli5\nSuccessfully installed eli5-0.10.1 graphviz-0.16 tabulate-0.8.7\n"
     ]
    }
   ],
   "source": [
    "!pip3 install git+https://github.com/amaiya/eli5@tfkeras_0_10_1"
   ]
  },
  {
   "cell_type": "code",
   "execution_count": 45,
   "metadata": {},
   "outputs": [
    {
     "output_type": "execute_result",
     "data": {
      "text/plain": [
       "<IPython.core.display.HTML object>"
      ],
      "text/html": "\n    <style>\n    table.eli5-weights tr:hover {\n        filter: brightness(85%);\n    }\n</style>\n\n\n\n    \n\n    \n\n    \n\n    \n\n    \n\n    \n\n\n    \n\n    \n\n    \n\n    \n        \n\n    \n\n        \n\n        \n    \n        \n        \n    \n        <p style=\"margin-bottom: 0.5em; margin-top: 0em\">\n            <b>\n    \n        y=soc.religion.christian\n    \n</b>\n\n    \n    (probability <b>1.000</b>, score <b>9.478</b>)\n\ntop features\n        </p>\n    \n    <table class=\"eli5-weights\"\n           style=\"border-collapse: collapse; border: none; margin-top: 0em; table-layout: auto; margin-bottom: 2em;\">\n        <thead>\n        <tr style=\"border: none;\">\n            \n                <th style=\"padding: 0 1em 0 0.5em; text-align: right; border: none;\" title=\"Feature contribution already accounts for the feature value (for linear models, contribution = weight * feature value), and the sum of feature contributions is equal to the score or, for some classifiers, to the probability. Feature values are shown if &quot;show_feature_values&quot; is True.\">\n                    Contribution<sup>?</sup>\n                </th>\n            \n            <th style=\"padding: 0 0.5em 0 0.5em; text-align: left; border: none;\">Feature</th>\n            \n        </tr>\n        </thead>\n        <tbody>\n        \n            <tr style=\"background-color: hsl(120, 100.00%, 80.00%); border: none;\">\n    <td style=\"padding: 0 1em 0 0.5em; text-align: right; border: none;\">\n        +9.535\n    </td>\n    <td style=\"padding: 0 0.5em 0 0.5em; text-align: left; border: none;\">\n        Highlighted in text (sum)\n    </td>\n    \n</tr>\n        \n        \n\n        \n        \n            <tr style=\"background-color: hsl(0, 100.00%, 99.44%); border: none;\">\n    <td style=\"padding: 0 1em 0 0.5em; text-align: right; border: none;\">\n        -0.057\n    </td>\n    <td style=\"padding: 0 0.5em 0 0.5em; text-align: left; border: none;\">\n        &lt;BIAS&gt;\n    </td>\n    \n</tr>\n        \n\n        </tbody>\n    </table>\n\n    \n\n\n\n    <p style=\"margin-bottom: 2.5em; margin-top:-0.5em;\">\n        <span style=\"background-color: hsl(120, 100.00%, 62.81%); opacity: 0.98\" title=\"3.024\">jesus</span><span style=\"opacity: 0.80\"> </span><span style=\"background-color: hsl(120, 100.00%, 60.00%); opacity: 1.00\" title=\"3.356\">christ</span><span style=\"opacity: 0.80\"> </span><span style=\"background-color: hsl(120, 100.00%, 88.65%); opacity: 0.83\" title=\"0.555\">is</span><span style=\"opacity: 0.80\"> </span><span style=\"background-color: hsl(120, 100.00%, 95.07%); opacity: 0.81\" title=\"0.169\">the</span><span style=\"opacity: 0.80\"> </span><span style=\"background-color: hsl(120, 100.00%, 91.26%); opacity: 0.82\" title=\"0.382\">central</span><span style=\"opacity: 0.80\"> </span><span style=\"background-color: hsl(0, 100.00%, 93.57%); opacity: 0.81\" title=\"-0.247\">figure</span><span style=\"opacity: 0.80\"> </span><span style=\"background-color: hsl(120, 100.00%, 87.25%); opacity: 0.84\" title=\"0.655\">of</span><span style=\"opacity: 0.80\"> </span><span style=\"background-color: hsl(120, 100.00%, 60.24%); opacity: 1.00\" title=\"3.327\">christianity</span>\n    </p>\n\n\n    \n\n    \n\n    \n\n    \n\n\n    \n\n    \n\n    \n\n    \n\n    \n\n    \n\n\n    \n\n    \n\n    \n\n    \n\n    \n\n    \n\n\n\n"
     },
     "metadata": {},
     "execution_count": 45
    }
   ],
   "source": [
    "predictor.explain(\"Jesus Christ is the central figure of Christianity\")"
   ]
  },
  {
   "cell_type": "code",
   "execution_count": 47,
   "metadata": {},
   "outputs": [
    {
     "output_type": "execute_result",
     "data": {
      "text/plain": [
       "<IPython.core.display.HTML object>"
      ],
      "text/html": "\n    <style>\n    table.eli5-weights tr:hover {\n        filter: brightness(85%);\n    }\n</style>\n\n\n\n    \n\n    \n\n    \n\n    \n\n    \n\n    \n\n\n    \n\n    \n\n    \n\n    \n        \n\n    \n\n        \n\n        \n    \n        \n        \n    \n        <p style=\"margin-bottom: 0.5em; margin-top: 0em\">\n            <b>\n    \n        y=sci.med\n    \n</b>\n\n    \n    (probability <b>0.997</b>, score <b>7.120</b>)\n\ntop features\n        </p>\n    \n    <table class=\"eli5-weights\"\n           style=\"border-collapse: collapse; border: none; margin-top: 0em; table-layout: auto; margin-bottom: 2em;\">\n        <thead>\n        <tr style=\"border: none;\">\n            \n                <th style=\"padding: 0 1em 0 0.5em; text-align: right; border: none;\" title=\"Feature contribution already accounts for the feature value (for linear models, contribution = weight * feature value), and the sum of feature contributions is equal to the score or, for some classifiers, to the probability. Feature values are shown if &quot;show_feature_values&quot; is True.\">\n                    Contribution<sup>?</sup>\n                </th>\n            \n            <th style=\"padding: 0 0.5em 0 0.5em; text-align: left; border: none;\">Feature</th>\n            \n        </tr>\n        </thead>\n        <tbody>\n        \n            <tr style=\"background-color: hsl(120, 100.00%, 80.00%); border: none;\">\n    <td style=\"padding: 0 1em 0 0.5em; text-align: right; border: none;\">\n        +7.553\n    </td>\n    <td style=\"padding: 0 0.5em 0 0.5em; text-align: left; border: none;\">\n        Highlighted in text (sum)\n    </td>\n    \n</tr>\n        \n        \n\n        \n        \n            <tr style=\"background-color: hsl(0, 100.00%, 97.30%); border: none;\">\n    <td style=\"padding: 0 1em 0 0.5em; text-align: right; border: none;\">\n        -0.433\n    </td>\n    <td style=\"padding: 0 0.5em 0 0.5em; text-align: left; border: none;\">\n        &lt;BIAS&gt;\n    </td>\n    \n</tr>\n        \n\n        </tbody>\n    </table>\n\n    \n\n\n\n    <p style=\"margin-bottom: 2.5em; margin-top:-0.5em;\">\n        <span style=\"background-color: hsl(0, 100.00%, 98.66%); opacity: 0.80\" title=\"-0.037\">this</span><span style=\"opacity: 0.80\"> </span><span style=\"background-color: hsl(120, 100.00%, 94.74%); opacity: 0.81\" title=\"0.262\">year</span><span style=\"opacity: 0.80\">&#x27;</span><span style=\"background-color: hsl(120, 100.00%, 90.78%); opacity: 0.82\" title=\"0.583\">s</span><span style=\"opacity: 0.80\"> </span><span style=\"background-color: hsl(120, 100.00%, 63.67%); opacity: 0.97\" title=\"4.137\">pandemic</span><span style=\"opacity: 0.80\"> </span><span style=\"background-color: hsl(120, 100.00%, 98.87%); opacity: 0.80\" title=\"0.029\">will</span><span style=\"opacity: 0.80\"> </span><span style=\"background-color: hsl(0, 100.00%, 95.77%); opacity: 0.81\" title=\"-0.192\">bring</span><span style=\"opacity: 0.80\"> </span><span style=\"background-color: hsl(120, 100.00%, 92.20%); opacity: 0.82\" title=\"0.459\">lots</span><span style=\"opacity: 0.80\"> </span><span style=\"background-color: hsl(120, 100.00%, 94.05%); opacity: 0.81\" title=\"0.312\">of</span><span style=\"opacity: 0.80\"> </span><span style=\"background-color: hsl(120, 100.00%, 96.70%); opacity: 0.81\" title=\"0.134\">challenges</span><span style=\"opacity: 0.80\"> </span><span style=\"background-color: hsl(120, 100.00%, 90.75%); opacity: 0.82\" title=\"0.586\">regarding</span><span style=\"opacity: 0.80\"> </span><span style=\"background-color: hsl(120, 100.00%, 60.00%); opacity: 1.00\" title=\"4.747\">vaccination</span>\n    </p>\n\n\n    \n\n    \n\n    \n\n    \n\n\n    \n\n    \n\n    \n\n    \n\n    \n\n    \n\n\n    \n\n    \n\n    \n\n    \n\n    \n\n    \n\n\n\n"
     },
     "metadata": {},
     "execution_count": 47
    }
   ],
   "source": [
    "predictor.explain(\"This year's pandemic will bring lots of challenges regarding vaccination\")"
   ]
  },
  {
   "source": [
    "### STEP 8: Saving / Loading Model"
   ],
   "cell_type": "markdown",
   "metadata": {}
  },
  {
   "cell_type": "code",
   "execution_count": 38,
   "metadata": {},
   "outputs": [],
   "source": [
    "predictor.save('/tmp/my_20newsgroup_predictor')"
   ]
  },
  {
   "cell_type": "code",
   "execution_count": 39,
   "metadata": {},
   "outputs": [],
   "source": [
    "reloaded_predictor = ktrain.load_predictor('/tmp/my_20newsgroup_predictor')"
   ]
  },
  {
   "cell_type": "code",
   "execution_count": 40,
   "metadata": {},
   "outputs": [
    {
     "output_type": "execute_result",
     "data": {
      "text/plain": [
       "'soc.religion.christian'"
      ]
     },
     "metadata": {},
     "execution_count": 40
    }
   ],
   "source": [
    "reloaded_predictor.predict(\"Jesus Christ is the central figure of Christianity\")"
   ]
  },
  {
   "cell_type": "code",
   "execution_count": 41,
   "metadata": {},
   "outputs": [
    {
     "output_type": "execute_result",
     "data": {
      "text/plain": [
       "array([1.8159728e-03, 4.5640234e-04, 5.0473597e-04, 9.9722290e-01],\n",
       "      dtype=float32)"
      ]
     },
     "metadata": {},
     "execution_count": 41
    }
   ],
   "source": [
    "reloaded_predictor.predict_proba(\"Jesus Christ is the central figure of Christianity\")"
   ]
  },
  {
   "cell_type": "code",
   "execution_count": 42,
   "metadata": {},
   "outputs": [
    {
     "output_type": "execute_result",
     "data": {
      "text/plain": [
       "['alt.atheism', 'comp.graphics', 'sci.med', 'soc.religion.christian']"
      ]
     },
     "metadata": {},
     "execution_count": 42
    }
   ],
   "source": [
    "reloaded_predictor.get_classes()"
   ]
  },
  {
   "cell_type": "code",
   "execution_count": null,
   "metadata": {},
   "outputs": [],
   "source": []
  }
 ]
}